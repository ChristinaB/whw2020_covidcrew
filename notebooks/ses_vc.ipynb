{
 "cells": [
  {
   "cell_type": "markdown",
   "metadata": {},
   "source": [
    "in this notebook, I walk through how to download ACS ses data from CensusData package in python. At the bottom are some questions for next steps. -val"
   ]
  },
  {
   "cell_type": "markdown",
   "metadata": {},
   "source": [
    "## helpful documentation: https://jtleider.github.io/censusdata/"
   ]
  },
  {
   "cell_type": "markdown",
   "metadata": {},
   "source": [
    "#### let's install the CensusData package"
   ]
  },
  {
   "cell_type": "code",
   "execution_count": 16,
   "metadata": {},
   "outputs": [
    {
     "name": "stdout",
     "output_type": "stream",
     "text": [
      "Requirement already satisfied: CensusData in /opt/conda/envs/whw/lib/python3.6/site-packages (1.8)\n",
      "Requirement already satisfied: pandas in /opt/conda/envs/whw/lib/python3.6/site-packages (from CensusData) (1.0.5)\n",
      "Requirement already satisfied: requests in /opt/conda/envs/whw/lib/python3.6/site-packages (from CensusData) (2.24.0)\n",
      "Requirement already satisfied: numpy>=1.13.3 in /opt/conda/envs/whw/lib/python3.6/site-packages (from pandas->CensusData) (1.19.1)\n",
      "Requirement already satisfied: python-dateutil>=2.6.1 in /opt/conda/envs/whw/lib/python3.6/site-packages (from pandas->CensusData) (2.8.1)\n",
      "Requirement already satisfied: pytz>=2017.2 in /opt/conda/envs/whw/lib/python3.6/site-packages (from pandas->CensusData) (2020.1)\n",
      "Requirement already satisfied: urllib3!=1.25.0,!=1.25.1,<1.26,>=1.21.1 in /opt/conda/envs/whw/lib/python3.6/site-packages (from requests->CensusData) (1.25.10)\n",
      "Requirement already satisfied: idna<3,>=2.5 in /opt/conda/envs/whw/lib/python3.6/site-packages (from requests->CensusData) (2.10)\n",
      "Requirement already satisfied: certifi>=2017.4.17 in /opt/conda/envs/whw/lib/python3.6/site-packages (from requests->CensusData) (2020.6.20)\n",
      "Requirement already satisfied: chardet<4,>=3.0.2 in /opt/conda/envs/whw/lib/python3.6/site-packages (from requests->CensusData) (3.0.4)\n",
      "Requirement already satisfied: six>=1.5 in /opt/conda/envs/whw/lib/python3.6/site-packages (from python-dateutil>=2.6.1->pandas->CensusData) (1.15.0)\n"
     ]
    }
   ],
   "source": [
    "# will need to install every few hours, consider making a covidcrew env. to keep installed packages\n",
    "!pip install CensusData"
   ]
  },
  {
   "cell_type": "code",
   "execution_count": 17,
   "metadata": {},
   "outputs": [],
   "source": [
    "import pandas as pd\n",
    "import censusdata"
   ]
  },
  {
   "cell_type": "markdown",
   "metadata": {},
   "source": [
    "#### Let's look at the data and find the information we want to use"
   ]
  },
  {
   "cell_type": "code",
   "execution_count": 64,
   "metadata": {},
   "outputs": [],
   "source": [
    "# search keywords to find data we want\n",
    "#censusdata.search('acs5', 2015, 'label', 'income')[160:165]"
   ]
  },
  {
   "cell_type": "code",
   "execution_count": 19,
   "metadata": {},
   "outputs": [
    {
     "data": {
      "text/plain": [
       "{'Alabama': censusgeo((('state', '01'),)),\n",
       " 'Alaska': censusgeo((('state', '02'),)),\n",
       " 'Arizona': censusgeo((('state', '04'),)),\n",
       " 'Arkansas': censusgeo((('state', '05'),)),\n",
       " 'California': censusgeo((('state', '06'),)),\n",
       " 'Colorado': censusgeo((('state', '08'),)),\n",
       " 'Connecticut': censusgeo((('state', '09'),)),\n",
       " 'Delaware': censusgeo((('state', '10'),)),\n",
       " 'District of Columbia': censusgeo((('state', '11'),)),\n",
       " 'Florida': censusgeo((('state', '12'),)),\n",
       " 'Georgia': censusgeo((('state', '13'),)),\n",
       " 'Hawaii': censusgeo((('state', '15'),)),\n",
       " 'Idaho': censusgeo((('state', '16'),)),\n",
       " 'Illinois': censusgeo((('state', '17'),)),\n",
       " 'Indiana': censusgeo((('state', '18'),)),\n",
       " 'Iowa': censusgeo((('state', '19'),)),\n",
       " 'Kansas': censusgeo((('state', '20'),)),\n",
       " 'Kentucky': censusgeo((('state', '21'),)),\n",
       " 'Louisiana': censusgeo((('state', '22'),)),\n",
       " 'Maine': censusgeo((('state', '23'),)),\n",
       " 'Maryland': censusgeo((('state', '24'),)),\n",
       " 'Massachusetts': censusgeo((('state', '25'),)),\n",
       " 'Michigan': censusgeo((('state', '26'),)),\n",
       " 'Minnesota': censusgeo((('state', '27'),)),\n",
       " 'Mississippi': censusgeo((('state', '28'),)),\n",
       " 'Missouri': censusgeo((('state', '29'),)),\n",
       " 'Montana': censusgeo((('state', '30'),)),\n",
       " 'Nebraska': censusgeo((('state', '31'),)),\n",
       " 'Nevada': censusgeo((('state', '32'),)),\n",
       " 'New Hampshire': censusgeo((('state', '33'),)),\n",
       " 'New Jersey': censusgeo((('state', '34'),)),\n",
       " 'New Mexico': censusgeo((('state', '35'),)),\n",
       " 'New York': censusgeo((('state', '36'),)),\n",
       " 'North Carolina': censusgeo((('state', '37'),)),\n",
       " 'North Dakota': censusgeo((('state', '38'),)),\n",
       " 'Ohio': censusgeo((('state', '39'),)),\n",
       " 'Oklahoma': censusgeo((('state', '40'),)),\n",
       " 'Oregon': censusgeo((('state', '41'),)),\n",
       " 'Pennsylvania': censusgeo((('state', '42'),)),\n",
       " 'Rhode Island': censusgeo((('state', '44'),)),\n",
       " 'South Carolina': censusgeo((('state', '45'),)),\n",
       " 'South Dakota': censusgeo((('state', '46'),)),\n",
       " 'Tennessee': censusgeo((('state', '47'),)),\n",
       " 'Texas': censusgeo((('state', '48'),)),\n",
       " 'Utah': censusgeo((('state', '49'),)),\n",
       " 'Vermont': censusgeo((('state', '50'),)),\n",
       " 'Virginia': censusgeo((('state', '51'),)),\n",
       " 'Washington': censusgeo((('state', '53'),)),\n",
       " 'West Virginia': censusgeo((('state', '54'),)),\n",
       " 'Wisconsin': censusgeo((('state', '55'),)),\n",
       " 'Wyoming': censusgeo((('state', '56'),)),\n",
       " 'Puerto Rico': censusgeo((('state', '72'),))}"
      ]
     },
     "execution_count": 19,
     "metadata": {},
     "output_type": "execute_result"
    }
   ],
   "source": [
    "# find the state code for MA\n",
    "censusdata.geographies(censusdata.censusgeo([('state', '*')]), 'acs5', 2015)"
   ]
  },
  {
   "cell_type": "code",
   "execution_count": 65,
   "metadata": {},
   "outputs": [
    {
     "data": {
      "text/plain": [
       "{'Barnstable County, Massachusetts': censusgeo((('state', '25'), ('county', '001'))),\n",
       " 'Berkshire County, Massachusetts': censusgeo((('state', '25'), ('county', '003'))),\n",
       " 'Bristol County, Massachusetts': censusgeo((('state', '25'), ('county', '005'))),\n",
       " 'Dukes County, Massachusetts': censusgeo((('state', '25'), ('county', '007'))),\n",
       " 'Essex County, Massachusetts': censusgeo((('state', '25'), ('county', '009'))),\n",
       " 'Franklin County, Massachusetts': censusgeo((('state', '25'), ('county', '011'))),\n",
       " 'Hampden County, Massachusetts': censusgeo((('state', '25'), ('county', '013'))),\n",
       " 'Hampshire County, Massachusetts': censusgeo((('state', '25'), ('county', '015'))),\n",
       " 'Middlesex County, Massachusetts': censusgeo((('state', '25'), ('county', '017'))),\n",
       " 'Nantucket County, Massachusetts': censusgeo((('state', '25'), ('county', '019'))),\n",
       " 'Norfolk County, Massachusetts': censusgeo((('state', '25'), ('county', '021'))),\n",
       " 'Plymouth County, Massachusetts': censusgeo((('state', '25'), ('county', '023'))),\n",
       " 'Suffolk County, Massachusetts': censusgeo((('state', '25'), ('county', '025'))),\n",
       " 'Worcester County, Massachusetts': censusgeo((('state', '25'), ('county', '027')))}"
      ]
     },
     "execution_count": 65,
     "metadata": {},
     "output_type": "execute_result"
    }
   ],
   "source": [
    "# find the city code for counties in MA\n",
    "censusdata.geographies(censusdata.censusgeo([('state','25'),('county', '*')]), 'acs5', 2015)"
   ]
  },
  {
   "cell_type": "markdown",
   "metadata": {},
   "source": [
    "#### MA state code: 'Massachusetts': ('state', '25')"
   ]
  },
  {
   "cell_type": "code",
   "execution_count": 21,
   "metadata": {},
   "outputs": [
    {
     "data": {
      "text/html": [
       "<div>\n",
       "<style scoped>\n",
       "    .dataframe tbody tr th:only-of-type {\n",
       "        vertical-align: middle;\n",
       "    }\n",
       "\n",
       "    .dataframe tbody tr th {\n",
       "        vertical-align: top;\n",
       "    }\n",
       "\n",
       "    .dataframe thead th {\n",
       "        text-align: right;\n",
       "    }\n",
       "</style>\n",
       "<table border=\"1\" class=\"dataframe\">\n",
       "  <thead>\n",
       "    <tr style=\"text-align: right;\">\n",
       "      <th></th>\n",
       "      <th>B01001_001E</th>\n",
       "      <th>B01002_001E</th>\n",
       "      <th>B19013_001E</th>\n",
       "    </tr>\n",
       "  </thead>\n",
       "  <tbody>\n",
       "    <tr>\n",
       "      <th>Brookline CDP, Massachusetts: Summary level: 160, state:25&gt; place:09210</th>\n",
       "      <td>59132</td>\n",
       "      <td>34.5</td>\n",
       "      <td>95518</td>\n",
       "    </tr>\n",
       "  </tbody>\n",
       "</table>\n",
       "</div>"
      ],
      "text/plain": [
       "                                                    B01001_001E  B01002_001E  \\\n",
       "Brookline CDP, Massachusetts: Summary level: 16...        59132         34.5   \n",
       "\n",
       "                                                    B19013_001E  \n",
       "Brookline CDP, Massachusetts: Summary level: 16...        95518  "
      ]
     },
     "execution_count": 21,
     "metadata": {},
     "output_type": "execute_result"
    }
   ],
   "source": [
    "# Download ACS 2011-2015 5-year estimates for city of Boston, MA on population size, median age, and median household income.\n",
    "#censusdata.download('acs5', 2015, censusdata.censusgeo([('state', '25'), ('place', '07000')]), ['B01001_001E', 'B01002_001E', 'B19013_001E'])\n",
    "censusdata.download('acs5', 2015, censusdata.censusgeo([('state', '25'), ('place', '09210')]), ['B01001_001E', 'B01002_001E', 'B19013_001E'])"
   ]
  },
  {
   "cell_type": "markdown",
   "metadata": {},
   "source": [
    "### You can download data for the state of MA by city name "
   ]
  },
  {
   "cell_type": "code",
   "execution_count": 28,
   "metadata": {},
   "outputs": [],
   "source": [
    "all_cities = censusdata.download('acs5', 2015,censusdata.censusgeo([('state', '25'), ('place', '*')]),\n",
    "                             ['B01001_001E', 'B01002_001E', 'B19013_001E', 'B02001_002E','B02001_003E','B02001_004E','B02001_005E','B02001_006E', 'B02001_007E','B02001_008E'])"
   ]
  },
  {
   "cell_type": "code",
   "execution_count": 63,
   "metadata": {},
   "outputs": [],
   "source": [
    "#all_cities\n",
    "# the three columns are population size, median age, and median income"
   ]
  },
  {
   "cell_type": "code",
   "execution_count": 60,
   "metadata": {},
   "outputs": [],
   "source": [
    "markers = ['population size', 'medium age', 'medium household income', 'White alone', 'Black or African American alone','American Indian and Alaska Native alone',\n",
    "'Asian alone', 'Native Hawaiian and Other Pacific Islander alone','Some other race alone','Two or more races']\n"
   ]
  },
  {
   "cell_type": "code",
   "execution_count": 68,
   "metadata": {},
   "outputs": [
    {
     "data": {
      "text/html": [
       "<div>\n",
       "<style scoped>\n",
       "    .dataframe tbody tr th:only-of-type {\n",
       "        vertical-align: middle;\n",
       "    }\n",
       "\n",
       "    .dataframe tbody tr th {\n",
       "        vertical-align: top;\n",
       "    }\n",
       "\n",
       "    .dataframe thead th {\n",
       "        text-align: right;\n",
       "    }\n",
       "</style>\n",
       "<table border=\"1\" class=\"dataframe\">\n",
       "  <thead>\n",
       "    <tr style=\"text-align: right;\">\n",
       "      <th></th>\n",
       "      <th>population size</th>\n",
       "      <th>medium age</th>\n",
       "      <th>medium household income</th>\n",
       "      <th>White alone</th>\n",
       "      <th>Black or African American alone</th>\n",
       "      <th>American Indian and Alaska Native alone</th>\n",
       "      <th>Asian alone</th>\n",
       "      <th>Native Hawaiian and Other Pacific Islander alone</th>\n",
       "      <th>Some other race alone</th>\n",
       "      <th>Two or more races</th>\n",
       "    </tr>\n",
       "  </thead>\n",
       "  <tbody>\n",
       "    <tr>\n",
       "      <th>Norfolk County, Massachusetts: Summary level: 050, state:25&gt; county:021</th>\n",
       "      <td>687721</td>\n",
       "      <td>40.9</td>\n",
       "      <td>88262</td>\n",
       "      <td>555100</td>\n",
       "      <td>43069</td>\n",
       "      <td>564</td>\n",
       "      <td>66682</td>\n",
       "      <td>35</td>\n",
       "      <td>8096</td>\n",
       "      <td>14175</td>\n",
       "    </tr>\n",
       "  </tbody>\n",
       "</table>\n",
       "</div>"
      ],
      "text/plain": [
       "                                                    population size  \\\n",
       "Norfolk County, Massachusetts: Summary level: 0...           687721   \n",
       "\n",
       "                                                    medium age  \\\n",
       "Norfolk County, Massachusetts: Summary level: 0...        40.9   \n",
       "\n",
       "                                                    medium household income  \\\n",
       "Norfolk County, Massachusetts: Summary level: 0...                    88262   \n",
       "\n",
       "                                                    White alone  \\\n",
       "Norfolk County, Massachusetts: Summary level: 0...       555100   \n",
       "\n",
       "                                                    Black or African American alone  \\\n",
       "Norfolk County, Massachusetts: Summary level: 0...                            43069   \n",
       "\n",
       "                                                    American Indian and Alaska Native alone  \\\n",
       "Norfolk County, Massachusetts: Summary level: 0...                                      564   \n",
       "\n",
       "                                                    Asian alone  \\\n",
       "Norfolk County, Massachusetts: Summary level: 0...        66682   \n",
       "\n",
       "                                                    Native Hawaiian and Other Pacific Islander alone  \\\n",
       "Norfolk County, Massachusetts: Summary level: 0...                                                35   \n",
       "\n",
       "                                                    Some other race alone  \\\n",
       "Norfolk County, Massachusetts: Summary level: 0...                   8096   \n",
       "\n",
       "                                                    Two or more races  \n",
       "Norfolk County, Massachusetts: Summary level: 0...              14175  "
      ]
     },
     "execution_count": 68,
     "metadata": {},
     "output_type": "execute_result"
    }
   ],
   "source": [
    "acs_norfolk = censusdata.download('acs5', 2015,censusdata.censusgeo([('state', '25'), ('county','021')]),\n",
    "                             ['B01001_001E', 'B01002_001E', 'B19013_001E', 'B02001_002E','B02001_003E','B02001_004E','B02001_005E','B02001_006E', 'B02001_007E','B02001_008E'])\n",
    "acs_norfolk.columns=markers\n",
    "acs_norfolk"
   ]
  },
  {
   "cell_type": "code",
   "execution_count": 55,
   "metadata": {},
   "outputs": [
    {
     "ename": "ValueError",
     "evalue": "arrays must all be same length",
     "output_type": "error",
     "traceback": [
      "\u001b[0;31m---------------------------------------------------------------------------\u001b[0m",
      "\u001b[0;31mValueError\u001b[0m                                Traceback (most recent call last)",
      "\u001b[0;32m<ipython-input-55-1bc58cd0e6c2>\u001b[0m in \u001b[0;36m<module>\u001b[0;34m()\u001b[0m\n\u001b[1;32m      1\u001b[0m table_norfolk = pd.DataFrame({\"Markers\": ['population size', 'medium age', 'medium household income', 'White alone', 'Black or African American alone','American Indian and Alaska Native alone',\n\u001b[1;32m      2\u001b[0m 'Asian alone', 'Native Hawaiian and Other Pacific Islander alone','Some other race alone','Two or more races'],      \n\u001b[0;32m----> 3\u001b[0;31m  \u001b[0;34m\"Data\"\u001b[0m\u001b[0;34m:\u001b[0m \u001b[0;34m[\u001b[0m\u001b[0macs_norfolk\u001b[0m\u001b[0;34m]\u001b[0m\u001b[0;34m\u001b[0m\u001b[0;34m\u001b[0m\u001b[0m\n\u001b[0m\u001b[1;32m      4\u001b[0m                       })\n\u001b[1;32m      5\u001b[0m \u001b[0mtable_norfolk\u001b[0m\u001b[0;34m\u001b[0m\u001b[0;34m\u001b[0m\u001b[0m\n",
      "\u001b[0;32m/opt/conda/envs/whw/lib/python3.6/site-packages/pandas/core/frame.py\u001b[0m in \u001b[0;36m__init__\u001b[0;34m(self, data, index, columns, dtype, copy)\u001b[0m\n\u001b[1;32m    433\u001b[0m             )\n\u001b[1;32m    434\u001b[0m         \u001b[0;32melif\u001b[0m \u001b[0misinstance\u001b[0m\u001b[0;34m(\u001b[0m\u001b[0mdata\u001b[0m\u001b[0;34m,\u001b[0m \u001b[0mdict\u001b[0m\u001b[0;34m)\u001b[0m\u001b[0;34m:\u001b[0m\u001b[0;34m\u001b[0m\u001b[0;34m\u001b[0m\u001b[0m\n\u001b[0;32m--> 435\u001b[0;31m             \u001b[0mmgr\u001b[0m \u001b[0;34m=\u001b[0m \u001b[0minit_dict\u001b[0m\u001b[0;34m(\u001b[0m\u001b[0mdata\u001b[0m\u001b[0;34m,\u001b[0m \u001b[0mindex\u001b[0m\u001b[0;34m,\u001b[0m \u001b[0mcolumns\u001b[0m\u001b[0;34m,\u001b[0m \u001b[0mdtype\u001b[0m\u001b[0;34m=\u001b[0m\u001b[0mdtype\u001b[0m\u001b[0;34m)\u001b[0m\u001b[0;34m\u001b[0m\u001b[0;34m\u001b[0m\u001b[0m\n\u001b[0m\u001b[1;32m    436\u001b[0m         \u001b[0;32melif\u001b[0m \u001b[0misinstance\u001b[0m\u001b[0;34m(\u001b[0m\u001b[0mdata\u001b[0m\u001b[0;34m,\u001b[0m \u001b[0mma\u001b[0m\u001b[0;34m.\u001b[0m\u001b[0mMaskedArray\u001b[0m\u001b[0;34m)\u001b[0m\u001b[0;34m:\u001b[0m\u001b[0;34m\u001b[0m\u001b[0;34m\u001b[0m\u001b[0m\n\u001b[1;32m    437\u001b[0m             \u001b[0;32mimport\u001b[0m \u001b[0mnumpy\u001b[0m\u001b[0;34m.\u001b[0m\u001b[0mma\u001b[0m\u001b[0;34m.\u001b[0m\u001b[0mmrecords\u001b[0m \u001b[0;32mas\u001b[0m \u001b[0mmrecords\u001b[0m\u001b[0;34m\u001b[0m\u001b[0;34m\u001b[0m\u001b[0m\n",
      "\u001b[0;32m/opt/conda/envs/whw/lib/python3.6/site-packages/pandas/core/internals/construction.py\u001b[0m in \u001b[0;36minit_dict\u001b[0;34m(data, index, columns, dtype)\u001b[0m\n\u001b[1;32m    252\u001b[0m             \u001b[0marr\u001b[0m \u001b[0;32mif\u001b[0m \u001b[0;32mnot\u001b[0m \u001b[0mis_datetime64tz_dtype\u001b[0m\u001b[0;34m(\u001b[0m\u001b[0marr\u001b[0m\u001b[0;34m)\u001b[0m \u001b[0;32melse\u001b[0m \u001b[0marr\u001b[0m\u001b[0;34m.\u001b[0m\u001b[0mcopy\u001b[0m\u001b[0;34m(\u001b[0m\u001b[0;34m)\u001b[0m \u001b[0;32mfor\u001b[0m \u001b[0marr\u001b[0m \u001b[0;32min\u001b[0m \u001b[0marrays\u001b[0m\u001b[0;34m\u001b[0m\u001b[0;34m\u001b[0m\u001b[0m\n\u001b[1;32m    253\u001b[0m         ]\n\u001b[0;32m--> 254\u001b[0;31m     \u001b[0;32mreturn\u001b[0m \u001b[0marrays_to_mgr\u001b[0m\u001b[0;34m(\u001b[0m\u001b[0marrays\u001b[0m\u001b[0;34m,\u001b[0m \u001b[0mdata_names\u001b[0m\u001b[0;34m,\u001b[0m \u001b[0mindex\u001b[0m\u001b[0;34m,\u001b[0m \u001b[0mcolumns\u001b[0m\u001b[0;34m,\u001b[0m \u001b[0mdtype\u001b[0m\u001b[0;34m=\u001b[0m\u001b[0mdtype\u001b[0m\u001b[0;34m)\u001b[0m\u001b[0;34m\u001b[0m\u001b[0;34m\u001b[0m\u001b[0m\n\u001b[0m\u001b[1;32m    255\u001b[0m \u001b[0;34m\u001b[0m\u001b[0m\n\u001b[1;32m    256\u001b[0m \u001b[0;34m\u001b[0m\u001b[0m\n",
      "\u001b[0;32m/opt/conda/envs/whw/lib/python3.6/site-packages/pandas/core/internals/construction.py\u001b[0m in \u001b[0;36marrays_to_mgr\u001b[0;34m(arrays, arr_names, index, columns, dtype)\u001b[0m\n\u001b[1;32m     62\u001b[0m     \u001b[0;31m# figure out the index, if necessary\u001b[0m\u001b[0;34m\u001b[0m\u001b[0;34m\u001b[0m\u001b[0;34m\u001b[0m\u001b[0m\n\u001b[1;32m     63\u001b[0m     \u001b[0;32mif\u001b[0m \u001b[0mindex\u001b[0m \u001b[0;32mis\u001b[0m \u001b[0;32mNone\u001b[0m\u001b[0;34m:\u001b[0m\u001b[0;34m\u001b[0m\u001b[0;34m\u001b[0m\u001b[0m\n\u001b[0;32m---> 64\u001b[0;31m         \u001b[0mindex\u001b[0m \u001b[0;34m=\u001b[0m \u001b[0mextract_index\u001b[0m\u001b[0;34m(\u001b[0m\u001b[0marrays\u001b[0m\u001b[0;34m)\u001b[0m\u001b[0;34m\u001b[0m\u001b[0;34m\u001b[0m\u001b[0m\n\u001b[0m\u001b[1;32m     65\u001b[0m     \u001b[0;32melse\u001b[0m\u001b[0;34m:\u001b[0m\u001b[0;34m\u001b[0m\u001b[0;34m\u001b[0m\u001b[0m\n\u001b[1;32m     66\u001b[0m         \u001b[0mindex\u001b[0m \u001b[0;34m=\u001b[0m \u001b[0mensure_index\u001b[0m\u001b[0;34m(\u001b[0m\u001b[0mindex\u001b[0m\u001b[0;34m)\u001b[0m\u001b[0;34m\u001b[0m\u001b[0;34m\u001b[0m\u001b[0m\n",
      "\u001b[0;32m/opt/conda/envs/whw/lib/python3.6/site-packages/pandas/core/internals/construction.py\u001b[0m in \u001b[0;36mextract_index\u001b[0;34m(data)\u001b[0m\n\u001b[1;32m    363\u001b[0m             \u001b[0mlengths\u001b[0m \u001b[0;34m=\u001b[0m \u001b[0mlist\u001b[0m\u001b[0;34m(\u001b[0m\u001b[0mset\u001b[0m\u001b[0;34m(\u001b[0m\u001b[0mraw_lengths\u001b[0m\u001b[0;34m)\u001b[0m\u001b[0;34m)\u001b[0m\u001b[0;34m\u001b[0m\u001b[0;34m\u001b[0m\u001b[0m\n\u001b[1;32m    364\u001b[0m             \u001b[0;32mif\u001b[0m \u001b[0mlen\u001b[0m\u001b[0;34m(\u001b[0m\u001b[0mlengths\u001b[0m\u001b[0;34m)\u001b[0m \u001b[0;34m>\u001b[0m \u001b[0;36m1\u001b[0m\u001b[0;34m:\u001b[0m\u001b[0;34m\u001b[0m\u001b[0;34m\u001b[0m\u001b[0m\n\u001b[0;32m--> 365\u001b[0;31m                 \u001b[0;32mraise\u001b[0m \u001b[0mValueError\u001b[0m\u001b[0;34m(\u001b[0m\u001b[0;34m\"arrays must all be same length\"\u001b[0m\u001b[0;34m)\u001b[0m\u001b[0;34m\u001b[0m\u001b[0;34m\u001b[0m\u001b[0m\n\u001b[0m\u001b[1;32m    366\u001b[0m \u001b[0;34m\u001b[0m\u001b[0m\n\u001b[1;32m    367\u001b[0m             \u001b[0;32mif\u001b[0m \u001b[0mhave_dicts\u001b[0m\u001b[0;34m:\u001b[0m\u001b[0;34m\u001b[0m\u001b[0;34m\u001b[0m\u001b[0m\n",
      "\u001b[0;31mValueError\u001b[0m: arrays must all be same length"
     ]
    }
   ],
   "source": [
    "table_norfolk = pd.DataFrame({\"Markers\": ['population size', 'medium age', 'medium household income', 'White alone', 'Black or African American alone','American Indian and Alaska Native alone',\n",
    "'Asian alone', 'Native Hawaiian and Other Pacific Islander alone','Some other race alone','Two or more races'],      \n",
    " \"Data\": [acs_norfolk]\n",
    "                      })\n",
    "table_norfolk"
   ]
  },
  {
   "cell_type": "code",
   "execution_count": 42,
   "metadata": {},
   "outputs": [
    {
     "data": {
      "text/plain": [
       "[['population size',\n",
       "  'medium age',\n",
       "  'medium household income',\n",
       "  'White alone',\n",
       "  'Black or African American alone',\n",
       "  'American Indian and Alaska Native alone',\n",
       "  'Asian alone',\n",
       "  'Native Hawaiian and Other Pacific Islander alone',\n",
       "  'Some other race alone',\n",
       "  'Two or more races'],\n",
       "                                                     B01001_001E  B01002_001E  \\\n",
       " Suffolk County, Massachusetts: Summary level: 0...       758919         32.2   \n",
       " \n",
       "                                                     B19013_001E  B02001_002E  \\\n",
       " Suffolk County, Massachusetts: Summary level: 0...        55044       421489   \n",
       " \n",
       "                                                     B02001_003E  B02001_004E  \\\n",
       " Suffolk County, Massachusetts: Summary level: 0...       169946         2593   \n",
       " \n",
       "                                                     B02001_005E  B02001_006E  \\\n",
       " Suffolk County, Massachusetts: Summary level: 0...        65396          107   \n",
       " \n",
       "                                                     B02001_007E  B02001_008E  \n",
       " Suffolk County, Massachusetts: Summary level: 0...        56190        43198  ]"
      ]
     },
     "execution_count": 42,
     "metadata": {},
     "output_type": "execute_result"
    }
   ],
   "source": [
    "norfolk_data = [markers,acs_norfolk[:1]]\n",
    "norfolk_data"
   ]
  },
  {
   "cell_type": "code",
   "execution_count": 33,
   "metadata": {},
   "outputs": [
    {
     "data": {
      "text/html": [
       "<div>\n",
       "<style scoped>\n",
       "    .dataframe tbody tr th:only-of-type {\n",
       "        vertical-align: middle;\n",
       "    }\n",
       "\n",
       "    .dataframe tbody tr th {\n",
       "        vertical-align: top;\n",
       "    }\n",
       "\n",
       "    .dataframe thead th {\n",
       "        text-align: right;\n",
       "    }\n",
       "</style>\n",
       "<table border=\"1\" class=\"dataframe\">\n",
       "  <thead>\n",
       "    <tr style=\"text-align: right;\">\n",
       "      <th></th>\n",
       "      <th>B01001_001E</th>\n",
       "      <th>B01002_001E</th>\n",
       "      <th>B19013_001E</th>\n",
       "      <th>B02001_002E</th>\n",
       "      <th>B02001_003E</th>\n",
       "      <th>B02001_004E</th>\n",
       "      <th>B02001_005E</th>\n",
       "      <th>B02001_006E</th>\n",
       "      <th>B02001_007E</th>\n",
       "      <th>B02001_008E</th>\n",
       "    </tr>\n",
       "  </thead>\n",
       "  <tbody>\n",
       "    <tr>\n",
       "      <th>Suffolk County, Massachusetts: Summary level: 050, state:25&gt; county:025</th>\n",
       "      <td>758919</td>\n",
       "      <td>32.2</td>\n",
       "      <td>55044</td>\n",
       "      <td>421489</td>\n",
       "      <td>169946</td>\n",
       "      <td>2593</td>\n",
       "      <td>65396</td>\n",
       "      <td>107</td>\n",
       "      <td>56190</td>\n",
       "      <td>43198</td>\n",
       "    </tr>\n",
       "  </tbody>\n",
       "</table>\n",
       "</div>"
      ],
      "text/plain": [
       "                                                    B01001_001E  B01002_001E  \\\n",
       "Suffolk County, Massachusetts: Summary level: 0...       758919         32.2   \n",
       "\n",
       "                                                    B19013_001E  B02001_002E  \\\n",
       "Suffolk County, Massachusetts: Summary level: 0...        55044       421489   \n",
       "\n",
       "                                                    B02001_003E  B02001_004E  \\\n",
       "Suffolk County, Massachusetts: Summary level: 0...       169946         2593   \n",
       "\n",
       "                                                    B02001_005E  B02001_006E  \\\n",
       "Suffolk County, Massachusetts: Summary level: 0...        65396          107   \n",
       "\n",
       "                                                    B02001_007E  B02001_008E  \n",
       "Suffolk County, Massachusetts: Summary level: 0...        56190        43198  "
      ]
     },
     "execution_count": 33,
     "metadata": {},
     "output_type": "execute_result"
    }
   ],
   "source": [
    "acs_norfolk = censusdata.download('acs5', 2015,censusdata.censusgeo([('state', '25'), ('county','025')]),\n",
    "                             ['B01001_001E', 'B01002_001E', 'B19013_001E', 'B02001_002E','B02001_003E','B02001_004E','B02001_005E','B02001_006E', 'B02001_007E','B02001_008E'])\n",
    "acs_norfolk"
   ]
  },
  {
   "cell_type": "code",
   "execution_count": 34,
   "metadata": {},
   "outputs": [
    {
     "data": {
      "text/html": [
       "<div>\n",
       "<style scoped>\n",
       "    .dataframe tbody tr th:only-of-type {\n",
       "        vertical-align: middle;\n",
       "    }\n",
       "\n",
       "    .dataframe tbody tr th {\n",
       "        vertical-align: top;\n",
       "    }\n",
       "\n",
       "    .dataframe thead th {\n",
       "        text-align: right;\n",
       "    }\n",
       "</style>\n",
       "<table border=\"1\" class=\"dataframe\">\n",
       "  <thead>\n",
       "    <tr style=\"text-align: right;\">\n",
       "      <th></th>\n",
       "      <th>B01001_001E</th>\n",
       "      <th>B01002_001E</th>\n",
       "      <th>B19013_001E</th>\n",
       "      <th>B02001_002E</th>\n",
       "      <th>B02001_003E</th>\n",
       "      <th>B02001_004E</th>\n",
       "      <th>B02001_005E</th>\n",
       "      <th>B02001_006E</th>\n",
       "      <th>B02001_007E</th>\n",
       "      <th>B02001_008E</th>\n",
       "    </tr>\n",
       "  </thead>\n",
       "  <tbody>\n",
       "    <tr>\n",
       "      <th>Middlesex County, Massachusetts: Summary level: 050, state:25&gt; county:017</th>\n",
       "      <td>1556116</td>\n",
       "      <td>38.5</td>\n",
       "      <td>85118</td>\n",
       "      <td>1230158</td>\n",
       "      <td>75980</td>\n",
       "      <td>2074</td>\n",
       "      <td>163386</td>\n",
       "      <td>424</td>\n",
       "      <td>37162</td>\n",
       "      <td>46932</td>\n",
       "    </tr>\n",
       "  </tbody>\n",
       "</table>\n",
       "</div>"
      ],
      "text/plain": [
       "                                                    B01001_001E  B01002_001E  \\\n",
       "Middlesex County, Massachusetts: Summary level:...      1556116         38.5   \n",
       "\n",
       "                                                    B19013_001E  B02001_002E  \\\n",
       "Middlesex County, Massachusetts: Summary level:...        85118      1230158   \n",
       "\n",
       "                                                    B02001_003E  B02001_004E  \\\n",
       "Middlesex County, Massachusetts: Summary level:...        75980         2074   \n",
       "\n",
       "                                                    B02001_005E  B02001_006E  \\\n",
       "Middlesex County, Massachusetts: Summary level:...       163386          424   \n",
       "\n",
       "                                                    B02001_007E  B02001_008E  \n",
       "Middlesex County, Massachusetts: Summary level:...        37162        46932  "
      ]
     },
     "execution_count": 34,
     "metadata": {},
     "output_type": "execute_result"
    }
   ],
   "source": [
    "acs_middlesex = censusdata.download('acs5', 2015,censusdata.censusgeo([('state', '25'), ('county','017')]),\n",
    "                             ['B01001_001E', 'B01002_001E', 'B19013_001E', 'B02001_002E','B02001_003E','B02001_004E','B02001_005E','B02001_006E', 'B02001_007E','B02001_008E'])\n",
    "acs_middlesex"
   ]
  },
  {
   "cell_type": "markdown",
   "metadata": {},
   "source": [
    "# Questions:"
   ]
  },
  {
   "cell_type": "markdown",
   "metadata": {},
   "source": [
    "1. how do we select just the cities grouped by North and South regions from this list?\n",
    "- Joey providing county names for north and south locations\n",
    "- consider weighted average of sorts \n",
    "2. How do we access demographic data (race/ethnicity? - the documentation I'm following suggests this data is published in the centennial census data? code: 'sf1'. \n",
    "- Pranjali will find code for demographic data, which may only be present at county level"
   ]
  },
  {
   "cell_type": "code",
   "execution_count": null,
   "metadata": {},
   "outputs": [],
   "source": []
  }
 ],
 "metadata": {
  "kernelspec": {
   "display_name": "Python [conda env:whw]",
   "language": "python",
   "name": "conda-env-whw-py"
  },
  "language_info": {
   "codemirror_mode": {
    "name": "ipython",
    "version": 3
   },
   "file_extension": ".py",
   "mimetype": "text/x-python",
   "name": "python",
   "nbconvert_exporter": "python",
   "pygments_lexer": "ipython3",
   "version": "3.6.11"
  }
 },
 "nbformat": 4,
 "nbformat_minor": 4
}
